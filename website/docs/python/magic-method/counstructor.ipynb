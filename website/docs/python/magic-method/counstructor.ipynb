{
 "cells": [
  {
   "cell_type": "markdown",
   "id": "dc116845",
   "metadata": {},
   "source": [
    "# Logger 제작하기\n",
    "\n",
    "실험 코드를 작성할 때 적절하게 로그를 남기는 것은 매우 중요합니다! 이를 위해 *싱글톤 패턴을 적용한 `Logger`*를 제작해주세요!"
   ]
  },
  {
   "cell_type": "code",
   "execution_count": null,
   "id": "724dd3b6",
   "metadata": {},
   "outputs": [],
   "source": [
    "def get_file():\n",
    "    \"\"\"로그를 작성하려고 시도한 위치를 찾는 함수\n",
    "\n",
    "    **Logger.log에서 호출되어야만 정상적으로 작동합니다**\n",
    "    \"\"\"\n",
    "    import inspect\n",
    "    import os\n",
    "\n",
    "    frame = inspect.stack()[2]\n",
    "    return os.path.basename(frame.filename)\n",
    "\n",
    "class Logger:\n",
    "    \"\"\"싱글톤 패턴을 적용한 Logger\n",
    "\n",
    "    실제 실험 코드에서 Logger를 전역 변수로 생성하는 것은 권장되지 않습니다. \n",
    "    그래서 로그를 남기는 것이 필요한 경우에는 함수 내에서 로거를 가져와야 합니다.\n",
    "    한 편, 로거를 호출할 때마다 새로운 인스턴스가 생성되면 이것이 불가능하겠죠?\n",
    "\n",
    "    싱글톤 패턴을 통해 Logger를 여러번 호출하더라도 한 번만 불러와지도록 설계해봅시다!\n",
    "    `_path`로 지정된 위치에 파일을 만들어서 로그를 차례로 작성하도록 해주세요.\n",
    "\n",
    "    주의!\n",
    "    - 기존에 로그 파일이 있었다면, 파일이 덮어씌워지도록 설계되어야 합니다.\n",
    "    \"\"\"\n",
    "\n",
    "    _instance = None\n",
    "    _path = \"test.log\"\n",
    "\n",
    "    def __new__(cls):\n",
    "        ...\n",
    "\n",
    "    def __init__(self):\n",
    "        ...\n",
    "\n",
    "    def log(self, message):\n",
    "        \"\"\"로그 작성\n",
    "\n",
    "        로그는 반드시, [시간 | 호출 위치] > 메세지의 형식으로 작성해주세요.\n",
    "\n",
    "        e.g. [2025-10-03:21:45 | main.py] > Logger가 초기화되었습니다.\n",
    "\n",
    "        현재 호출 위치는 일반적인 방법으로 찾기 힘들어서, get_file 함수를 만들었습니다. 사용해주세요!\n",
    "\n",
    "        Args:\n",
    "            message: 새로운 메세지\n",
    "        \"\"\""
   ]
  },
  {
   "cell_type": "code",
   "execution_count": null,
   "id": "f7c9f9fb",
   "metadata": {},
   "outputs": [],
   "source": [
    "# 테스트 코드\n",
    "logger = Logger()\n",
    "\n",
    "# 1. 싱글톤 패턴 검사\n",
    "print(logger is Logger())       # True\n",
    "\n",
    "# 2. 로그 작성 검사\n",
    "logger.log(\"로그 시작!\")\n",
    "logger.log(\"줄넘김도 잘 되나?\")\n",
    "\n",
    "# 3. 로그 덮어씌우기 검사\n",
    "Logger._instance = None         # 강제로 초기화\n",
    "logger = Logger()               # 새로 생성\n",
    "logger.log(\"로그 덮어씌우기!\")\n",
    "# 위 코드가 제대로 작동했다면 test.log에 '로그 시작!'이 없고 '로그 덮어씌우기!'만 있을 겁니다."
   ]
  }
 ],
 "metadata": {
  "language_info": {
   "name": "python"
  }
 },
 "nbformat": 4,
 "nbformat_minor": 5
}
